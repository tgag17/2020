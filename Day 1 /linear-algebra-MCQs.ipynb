{
 "cells": [
  {
   "cell_type": "markdown",
   "metadata": {},
   "source": [
    "<img src=\"https://s3-ap-southeast-1.amazonaws.com/he-public-data/wordmark_black65ee464.png\" width=\"700\">"
   ]
  },
  {
   "cell_type": "markdown",
   "metadata": {},
   "source": [
    "# Qiskit India Challenge\n",
    "---\n",
    "## Day 1: Linear Algebra\n"
   ]
  },
  {
   "cell_type": "markdown",
   "metadata": {},
   "source": [
    "### 1. Dirac Notation or Bra-Ket Notation"
   ]
  },
  {
   "cell_type": "markdown",
   "metadata": {},
   "source": [
    "#### 1) How can the vector shown below be represented in Dirac notation?\n",
    "\\begin{bmatrix} 1 \\\\ -i \\end{bmatrix}\n",
    "a.$$\\ket{0} -\\ket{1}$$\n",
    "b.$$\\ket{0} +i\\ket{1}$$\n",
    "c.$$\\ket{0} -i\\ket{1}$$\n",
    "d.$$\\ket{0} +\\ket{1}$$\n",
    "Ans: c"
   ]
  },
  {
   "cell_type": "markdown",
   "metadata": {},
   "source": [
    "#### 2) Which of the following is the vector notation of the bra\n",
    "$$\\frac{\\bra{0}+\\bra{1}}{\\sqrt{2}}$$\n",
    "\n",
    "a. \\begin{bmatrix}\\frac{i}{\\sqrt{2}}  \\frac{1}{\\sqrt{2}} \\end{bmatrix}\n",
    "b. \\begin{bmatrix}\\frac{1}{\\sqrt{2}}  \\frac{1}{\\sqrt{2}} \\end{bmatrix}\n",
    "c. \\begin{bmatrix}\\sqrt{2}  \\sqrt{2} \\end{bmatrix}\n",
    "d. \\begin{bmatrix}\\frac{1}{2} \\frac{1}{2} \\end{bmatrix}\n",
    "Ans: b\n",
    "\n",
    "---"
   ]
  },
  {
   "cell_type": "markdown",
   "metadata": {},
   "source": [
    "### 2. Dot Products"
   ]
  },
  {
   "cell_type": "markdown",
   "metadata": {},
   "source": [
    "#### 3) Which of the following is the result of\n",
    "$$\\braket{\\Psi}{\\Psi}$$\n",
    "\n",
    "where $$\\ket{\\Psi} = \\frac{\\ket{0}+\\ket{1}}{\\sqrt{2}}$$\n",
    "\n",
    "a. 1\n",
    "\n",
    "b. 2\n",
    "\n",
    "c. √2\n",
    "\n",
    "d. 1/2\n",
    "\n",
    "Ans: a"
   ]
  },
  {
   "cell_type": "markdown",
   "metadata": {},
   "source": [
    "#### 4) If $$\\braket{\\psi}{\\phi} = 5 $$ \n",
    "#### and $$\\ket{\\psi} = {\\ket{0}+i\\ket{1}}$$\n",
    "#### which of the following is $$\\ket{\\phi}$$\n",
    "#### where $\\ket{0}$ = $\\begin{bmatrix} 1 \\\\ 0 \\end{bmatrix}$ and $\\ket{1}$ = $\\begin{bmatrix} 0 \\\\ 1 \\end{bmatrix}$\n",
    "\n",
    "\n",
    "a. $$4\\ket{0}-i\\ket{1}$$\n",
    "b. $$4\\ket{0}+i\\ket{1}$$\n",
    "c. $$i\\ket{0}+4\\ket{1}$$\n",
    "d. $$4\\ket{0}-4\\ket{1}$$\n",
    "\n",
    "Ans: b\n",
    "\n",
    "---"
   ]
  },
  {
   "cell_type": "markdown",
   "metadata": {},
   "source": [
    "### 3. Tensor Product"
   ]
  },
  {
   "cell_type": "markdown",
   "metadata": {},
   "source": [
    "#### 1) What is the result of: $\n",
    "H\\otimes X =  \\tfrac{1}{\\sqrt{2}}\\begin{bmatrix} 1 & 1 \\\\ 1 & -1 \\end{bmatrix} \\otimes \\begin{bmatrix} 0 & 1 \\\\ 1 & 0 \\end{bmatrix}\n",
    "$\n",
    "\n",
    "a.\\begin{bmatrix} 0 & H \\\\ H & 0 \\end{bmatrix}\n",
    "b.\n",
    "$$\n",
    "\\tfrac{1}{\\sqrt{2}}\n",
    "\\begin{bmatrix} H & H \\\\ H & -H \\end{bmatrix}\n",
    "$$\n",
    "c.\\begin{bmatrix} 1 & -1 \\\\ 1 & 0 \\end{bmatrix}\n",
    "d.\n",
    "$$\n",
    "\\tfrac{1}{\\sqrt{2}}\n",
    "\\begin{bmatrix} X & X \\\\ X & -X \\end{bmatrix}\n",
    "$$\n",
    "Ans: d"
   ]
  },
  {
   "cell_type": "markdown",
   "metadata": {},
   "source": [
    "### 4. Unitaries"
   ]
  },
  {
   "cell_type": "markdown",
   "metadata": {},
   "source": [
    "#### 1) Which of the follwing matix is unitary?\n",
    "\n",
    "a.$$\\tfrac{1}{\\sqrt{2}}\\begin{bmatrix} 1 & 1 \\\\ 1 & -1 \\end{bmatrix}$$\n",
    "b.$$\\tfrac{1}{\\sqrt{2}}\\begin{bmatrix} 2 & 2 \\\\ 1 & -1 \\end{bmatrix}$$\n",
    "c.$$\\tfrac{1}{\\sqrt{2}}\\begin{bmatrix} 1 & 0 \\\\ 1 & 0 \\end{bmatrix}$$\n",
    "d.$$\\tfrac{1}{\\sqrt{2}}\\begin{bmatrix} i & i \\\\ 1 & -i \\end{bmatrix}$$\n",
    "\n",
    "Ans: a"
   ]
  },
  {
   "cell_type": "markdown",
   "metadata": {},
   "source": [
    "####  2)\n",
    "$$\n",
    "H =  \\tfrac{1}{\\sqrt{2}}\\begin{bmatrix} 1 & 1 \\\\ 1 & -1 \\end{bmatrix} and \\\\\n",
    "X =  \\begin{bmatrix} 0 & 1 \\\\ 1 & 0 \\end{bmatrix}\n",
    "$$\n",
    "\n",
    "#### What would be the result of the operations $$H^\\dagger XH$$\n",
    "\n",
    "a. $$ Z =  \\begin{bmatrix} 1 & 1 \\\\ 1 & 1 \\end{bmatrix}$$\n",
    "\n",
    "b. $$ Z =  \\begin{bmatrix} 1 & 0 \\\\ 0 & -1 \\end{bmatrix}$$\n",
    "\n",
    "c. $$ Z =  \\begin{bmatrix} 1 & 2 \\\\ 2 & 1 \\end{bmatrix}$$\n",
    "\n",
    "d. $$ Z =  \\begin{bmatrix} i & 0 \\\\ 0 & i \\end{bmatrix}$$\n",
    "\n",
    "Ans: b\n",
    "\n",
    "---"
   ]
  },
  {
   "cell_type": "markdown",
   "metadata": {},
   "source": [
    "### 5. Eigenvalues and Eigenvectors"
   ]
  },
  {
   "cell_type": "markdown",
   "metadata": {},
   "source": [
    "#### 1) What are the Eigenvalues of the matrix $$  X = \\begin{bmatrix} 0 & 1 \\\\ 1 & 0 \\end{bmatrix}$$\n",
    "a. +1,-1\n",
    "\n",
    "b. 0,0\n",
    "\n",
    "c. -1,0\n",
    "\n",
    "d. 0,1\n",
    "\n",
    "Ans: a"
   ]
  },
  {
   "cell_type": "markdown",
   "metadata": {},
   "source": [
    "#### 2) What are the Eigenvectors of the matrix $$ X = \\begin{bmatrix} 0 & 1 \\\\ 1 & 0 \\end{bmatrix}$$\n",
    "\n",
    "a. $$\\begin{bmatrix} 1 \\\\ 1 \\end{bmatrix} \\& \\begin{bmatrix} 1 \\\\ -1 \\end{bmatrix}$$\n",
    "b. $$\\begin{bmatrix} 1 \\\\ 0 \\end{bmatrix} \\& \\begin{bmatrix} 0 \\\\ 1 \\end{bmatrix}$$\n",
    "c. $$\\begin{bmatrix} 0 \\\\ 0 \\end{bmatrix} \\& \\begin{bmatrix} 1 \\\\ 1 \\end{bmatrix}$$\n",
    "d. $$\\begin{bmatrix} i \\\\ 1 \\end{bmatrix} \\& \\begin{bmatrix} 1 \\\\ i \\end{bmatrix}$$\n",
    "\n",
    "Ans: a"
   ]
  }
 ],
 "metadata": {
  "kernelspec": {
   "display_name": "Python 3",
   "language": "python",
   "name": "python3"
  },
  "language_info": {
   "codemirror_mode": {
    "name": "ipython",
    "version": 3
   },
   "file_extension": ".py",
   "mimetype": "text/x-python",
   "name": "python",
   "nbconvert_exporter": "python",
   "pygments_lexer": "ipython3",
   "version": "3.8.3"
  }
 },
 "nbformat": 4,
 "nbformat_minor": 4
}
