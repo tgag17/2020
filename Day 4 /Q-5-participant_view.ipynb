{
 "cells": [
  {
   "cell_type": "markdown",
   "metadata": {},
   "source": [
    "<img src=\"https://s3-ap-southeast-1.amazonaws.com/he-public-data/wordmark_black65ee464.png\" width=\"700\">"
   ]
  },
  {
   "cell_type": "markdown",
   "metadata": {},
   "source": [
    "# Day 4 - Question 1"
   ]
  },
  {
   "cell_type": "markdown",
   "metadata": {},
   "source": [
    "**Welcome to Day 4 Question 1 of Qiskit Challenge India!** \n",
    "\n",
    "**Today's Reading Assignment:**\n",
    "\n",
    "- [Qiskit Textbook Chapter 2.3 - Phase Kickback](https://qiskit.org/textbook/ch-gates/phase-kickback.html)\n",
    "- [Qiskit Textbook Chapter 2.4 - More Circuit Identities](https://qiskit.org/textbook/ch-gates/more-circuit-identities.html)\n",
    "\n",
    "**Additional Resources:**\n",
    "\n",
    "- [Qiskit Documentation - Tutorials](https://qiskit.org/documentation/tutorials/circuits/index.html)\n",
    "- [Qiskit Documentation - Terra Circuit Library](https://qiskit.org/documentation/apidoc/circuit_library.html)\n",
    "- [Qiskit Tutorial - Advanced Circuit Visualization](https://github.com/Qiskit/qiskit-tutorials/blob/master/tutorials/circuits_advanced/3_advanced_circuit_visualization.ipynb)\n",
    "\n",
    "**For the Curious:**\n",
    "\n",
    "- [Circuit Sessions - Qiskit Circuit Library](https://www.youtube.com/watch?v=SsXJgAZ6aIg)\n",
    "- [Circuit Sessions - Transpiling Quantum Circuits](https://www.youtube.com/watch?v=2T3163VjvWQ)\n",
    "\n",
    "\n",
    "\n",
    "In [Chapter2, Section 2.2](https://qiskit.org/textbook/ch-gates/multiple-qubits-entangled-states.html), we learned how to use a unitary simulator to obtain the unitary matrix corresponding to a circuit. Below, you are asked to find a unitary matrix which transforms $|000\\rangle$ to a GHZ state. \n",
    "\n",
    "## Question: Find a unitary matrix corresponding to the circuit that transforms $|000\\rangle$ to a GHZ state: \n",
    "\n",
    "**GHZ State:** $$|\\psi\\rangle = \\frac{1}{\\sqrt{2}}(|000\\rangle+|111\\rangle)$$\n",
    "\n"
   ]
  },
  {
   "cell_type": "code",
   "execution_count": 1,
   "metadata": {},
   "outputs": [],
   "source": [
    "%matplotlib inline\n",
    "\n",
    "# defining a magic function for creating the submission file.\n",
    "from IPython.core.magic import register_cell_magic\n",
    "@register_cell_magic\n",
    "def write_and_run(line, cell):\n",
    "    argz = line.split()\n",
    "    file = argz[-1]\n",
    "    mode = 'w'\n",
    "    with open(file, mode) as f:\n",
    "        f.write(cell)\n",
    "    get_ipython().run_cell(cell)\n",
    "    \n",
    "# Importing Qiskit visualization libraries \n",
    "from qiskit.tools.jupyter import *\n",
    "from qiskit.visualization import *"
   ]
  },
  {
   "cell_type": "markdown",
   "metadata": {},
   "source": [
    "Now that we have imported what we require lets build our circuit in the `build_state()` function where we have already initialized a `QuantumCircuit` for three qubits. Though the question asks us to find the unitary matrix corresponding to the transformation, all you need to do is create the circuit by applying required gates inside `build_state()`. In the case that you require classes that haven't already been imported include them in the space given below for importing libraries.\n",
    "\n",
    "**Note:** Do not change the name of the function `build_state()`. "
   ]
  },
  {
   "cell_type": "code",
   "execution_count": 2,
   "metadata": {},
   "outputs": [],
   "source": [
    "%%write_and_run answer_day4_question1.py\n",
    "\n",
    "### WRITE YOUR CODE BETWEEN THESE LINES - START\n",
    "    \n",
    "# import libraries that are used in the function below.\n",
    "from qiskit import QuantumCircuit\n",
    "import numpy as np\n",
    "    \n",
    "### WRITE YOUR CODE BETWEEN THESE LINES - END\n",
    "\n",
    "def build_state():\n",
    "    \n",
    "    # initialize a 3 qubit circuit\n",
    "    circuit = QuantumCircuit(3)\n",
    "    \n",
    "    ### WRITE YOUR CODE BETWEEN THESE LINES - START\n",
    "    \n",
    "    # apply necessary gates\n",
    "    circuit.h(0)\n",
    "    circuit.cx(0,1)\n",
    "    circuit.cx(1,2)\n",
    "    \n",
    "    ### WRITE YOUR CODE BETWEEN THESE LINES - END\n",
    "    return circuit"
   ]
  },
  {
   "cell_type": "markdown",
   "metadata": {},
   "source": [
    "**Circuit Diagram**"
   ]
  },
  {
   "cell_type": "code",
   "execution_count": 3,
   "metadata": {},
   "outputs": [
    {
     "data": {
      "text/html": [
       "<pre style=\"word-wrap: normal;white-space: pre;background: #fff0;line-height: 1.1;font-family: &quot;Courier New&quot;,Courier,monospace\">     ┌───┐          \n",
       "q_0: ┤ H ├──■───────\n",
       "     └───┘┌─┴─┐     \n",
       "q_1: ─────┤ X ├──■──\n",
       "          └───┘┌─┴─┐\n",
       "q_2: ──────────┤ X ├\n",
       "               └───┘</pre>"
      ],
      "text/plain": [
       "     ┌───┐          \n",
       "q_0: ┤ H ├──■───────\n",
       "     └───┘┌─┴─┐     \n",
       "q_1: ─────┤ X ├──■──\n",
       "          └───┘┌─┴─┐\n",
       "q_2: ──────────┤ X ├\n",
       "               └───┘"
      ]
     },
     "execution_count": 3,
     "metadata": {},
     "output_type": "execute_result"
    }
   ],
   "source": [
    "my_circuit = build_state()\n",
    "my_circuit.draw()"
   ]
  },
  {
   "cell_type": "markdown",
   "metadata": {},
   "source": [
    "**Unitary Matrix of the Circuit**"
   ]
  },
  {
   "cell_type": "markdown",
   "metadata": {},
   "source": [
    "All gates can be written as unitary matrices and hence, circuits composed of multiple gates can be represented as a single unitary matrix as well. To get the unitary of a circuit we run the ciruit using `unitary_simulator`. To know more, you can watch this 1 minute qiskit video on [Unitary Simulator](https://www.youtube.com/watch?v=5uT5fUq2HVM)."
   ]
  },
  {
   "cell_type": "code",
   "execution_count": 4,
   "metadata": {},
   "outputs": [
    {
     "name": "stdout",
     "output_type": "stream",
     "text": [
      "[[ 0.70710678+0.00000000e+00j  0.70710678-8.65956056e-17j\n",
      "   0.        +0.00000000e+00j  0.        +0.00000000e+00j\n",
      "   0.        +0.00000000e+00j  0.        +0.00000000e+00j\n",
      "   0.        +0.00000000e+00j  0.        +0.00000000e+00j]\n",
      " [ 0.        +0.00000000e+00j  0.        +0.00000000e+00j\n",
      "   0.70710678+0.00000000e+00j -0.70710678+8.65956056e-17j\n",
      "   0.        +0.00000000e+00j  0.        +0.00000000e+00j\n",
      "   0.        +0.00000000e+00j  0.        +0.00000000e+00j]\n",
      " [ 0.        +0.00000000e+00j  0.        +0.00000000e+00j\n",
      "   0.        +0.00000000e+00j  0.        +0.00000000e+00j\n",
      "   0.        +0.00000000e+00j  0.        +0.00000000e+00j\n",
      "   0.70710678+0.00000000e+00j  0.70710678-8.65956056e-17j]\n",
      " [ 0.        +0.00000000e+00j  0.        +0.00000000e+00j\n",
      "   0.        +0.00000000e+00j  0.        +0.00000000e+00j\n",
      "   0.70710678+0.00000000e+00j -0.70710678+8.65956056e-17j\n",
      "   0.        +0.00000000e+00j  0.        +0.00000000e+00j]\n",
      " [ 0.        +0.00000000e+00j  0.        +0.00000000e+00j\n",
      "   0.        +0.00000000e+00j  0.        +0.00000000e+00j\n",
      "   0.70710678+0.00000000e+00j  0.70710678-8.65956056e-17j\n",
      "   0.        +0.00000000e+00j  0.        +0.00000000e+00j]\n",
      " [ 0.        +0.00000000e+00j  0.        +0.00000000e+00j\n",
      "   0.        +0.00000000e+00j  0.        +0.00000000e+00j\n",
      "   0.        +0.00000000e+00j  0.        +0.00000000e+00j\n",
      "   0.70710678+0.00000000e+00j -0.70710678+8.65956056e-17j]\n",
      " [ 0.        +0.00000000e+00j  0.        +0.00000000e+00j\n",
      "   0.70710678+0.00000000e+00j  0.70710678-8.65956056e-17j\n",
      "   0.        +0.00000000e+00j  0.        +0.00000000e+00j\n",
      "   0.        +0.00000000e+00j  0.        +0.00000000e+00j]\n",
      " [ 0.70710678+0.00000000e+00j -0.70710678+8.65956056e-17j\n",
      "   0.        +0.00000000e+00j  0.        +0.00000000e+00j\n",
      "   0.        +0.00000000e+00j  0.        +0.00000000e+00j\n",
      "   0.        +0.00000000e+00j  0.        +0.00000000e+00j]]\n"
     ]
    }
   ],
   "source": [
    "# importing the simulator\n",
    "from qiskit import execute, Aer\n",
    "\n",
    "backend = Aer.get_backend(\"unitary_simulator\")\n",
    "job = execute(my_circuit,backend=backend)\n",
    "unitary = job.result().get_unitary()\n",
    "print(unitary)"
   ]
  },
  {
   "cell_type": "markdown",
   "metadata": {},
   "source": [
    "### Submitting the Answer\n",
    "\n",
    "Once the solution is complete make sure you: \n",
    "\n",
    "* Step 1: **Run the notebook** to generate your submission file named **answer_day4_question1.py** which is a **python file (.py)**. \n",
    "* Step 2: **Upload answer_day4_question1.py** on the HackerEarth platform to get the solution graded and submitted. "
   ]
  }
 ],
 "metadata": {
  "kernelspec": {
   "display_name": "Python 3",
   "language": "python",
   "name": "python3"
  },
  "language_info": {
   "codemirror_mode": {
    "name": "ipython",
    "version": 3
   },
   "file_extension": ".py",
   "mimetype": "text/x-python",
   "name": "python",
   "nbconvert_exporter": "python",
   "pygments_lexer": "ipython3",
   "version": "3.8.3"
  }
 },
 "nbformat": 4,
 "nbformat_minor": 4
}
